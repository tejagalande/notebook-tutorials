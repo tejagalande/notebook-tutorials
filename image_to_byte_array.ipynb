{
 "cells": [
  {
   "cell_type": "code",
   "execution_count": 1,
   "id": "dda64cb6",
   "metadata": {},
   "outputs": [],
   "source": [
    "import base64"
   ]
  },
  {
   "cell_type": "code",
   "execution_count": 5,
   "id": "84cbda64",
   "metadata": {},
   "outputs": [
    {
     "name": "stdout",
     "output_type": "stream",
     "text": [
      "b'iVBORw0KGgoAAAANSUhEUgAAACwAAAAUCAMAAADBcy/zAAAAAXNSR0IArs4c6QAAAHJQTFRFAAAAAAAAAAA6AABmADpmADqQAGa2OgAAOgA6OgBmOjpmOmaQOma2OpDbZgAAZgA6ZmZmZpDbZrbbZrb/kDoAkDo6kNv/tmYAtmY6tmZmtmaQtpBmttvbtv//25A625Bm27Zm2////7Zm/9uQ//+2///bzz4LMgAAAAF0Uk5TAEDm2GYAAAAJcEhZcwAADsQAAA7EAZUrDhsAAAAZdEVYdFNvZnR3YXJlAE1pY3Jvc29mdCBPZmZpY2V/7TVxAAAA6UlEQVQ4T91S2RKCMAwsiNarqFgBD276/7/oJqkzHD7Iq5kJbclmN1tQamG457EZtpTj44jN3ZIJe7cvvug9iLE0s0q7pkKlA14BCRC070/pDOzsVak2TJ3dCNg3KWGZRAa1DEA0jMD0TjkbprWOigrpq32Mhk5DYsBMJOr+suekjym5Cjne+WONkSPSYDDeGklxMAGTdraCJo+hul3B6R3A0XAMRmxBI2Xyyyn2wcA30RKdBINFmO0bIEyFI19dKVcHj84mGENIgSMjbCYPLzIynnkQHBoG55q3NPqPn1umWfIjfRz85/oG5pkVKcGMtzEAAAAASUVORK5CYII='\n"
     ]
    }
   ],
   "source": [
    "with open('1 Motion in Plane.docximage1.png','rb') as imageFile:\n",
    "    str = base64.b64encode(imageFile.read())\n",
    "    print(str)"
   ]
  },
  {
   "cell_type": "code",
   "execution_count": 6,
   "id": "30d83ca6",
   "metadata": {},
   "outputs": [],
   "source": [
    "with open('encode.bin', \"wb\") as file:\n",
    "    file.write(str)"
   ]
  },
  {
   "cell_type": "code",
   "execution_count": 7,
   "id": "6877840b",
   "metadata": {},
   "outputs": [],
   "source": [
    "file = open('encode.bin', 'rb')\n",
    "byte = file.read()\n",
    "file.close()\n",
    "\n",
    "decodeit = open('1 Motion in Plane.docximage1.jpeg', 'wb')\n",
    "decodeit.write(base64.b64decode((byte)))\n",
    "decodeit.close()"
   ]
  },
  {
   "cell_type": "code",
   "execution_count": 4,
   "id": "6599db79",
   "metadata": {},
   "outputs": [
    {
     "name": "stdout",
     "output_type": "stream",
     "text": [
      "b'hello world'\n",
      "hello world\n"
     ]
    }
   ],
   "source": [
    "#  conversion string to byte\n",
    "my_str = \"hello world\"\n",
    "\n",
    "my_str_as_bytes = str.encode(my_str)\n",
    "type(my_str_as_bytes) # ensure it is byte representation\n",
    "print(my_str_as_bytes)\n",
    "my_decoded_str = my_str_as_bytes.decode()\n",
    "# type(my_decoded_str) # ensure it is string representation\n",
    "print(my_decoded_str)"
   ]
  }
 ],
 "metadata": {
  "kernelspec": {
   "display_name": "Python 3 (ipykernel)",
   "language": "python",
   "name": "python3"
  },
  "language_info": {
   "codemirror_mode": {
    "name": "ipython",
    "version": 3
   },
   "file_extension": ".py",
   "mimetype": "text/x-python",
   "name": "python",
   "nbconvert_exporter": "python",
   "pygments_lexer": "ipython3",
   "version": "3.9.7"
  }
 },
 "nbformat": 4,
 "nbformat_minor": 5
}
